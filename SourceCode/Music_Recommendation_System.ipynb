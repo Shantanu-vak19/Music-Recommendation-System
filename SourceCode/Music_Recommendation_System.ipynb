{
  "nbformat": 4,
  "nbformat_minor": 0,
  "metadata": {
    "colab": {
      "provenance": []
    },
    "kernelspec": {
      "name": "python3",
      "display_name": "Python 3"
    },
    "language_info": {
      "name": "python"
    },
    "accelerator": "TPU"
  },
  "cells": [
    {
      "cell_type": "code",
      "execution_count": 1,
      "metadata": {
        "colab": {
          "base_uri": "https://localhost:8080/"
        },
        "id": "S1jwRFoqUBB7",
        "outputId": "60ae3234-fdbc-4ddb-d5dc-71e7ccf2aeaf"
      },
      "outputs": [
        {
          "output_type": "stream",
          "name": "stdout",
          "text": [
            "Collecting pyspark\n",
            "  Downloading pyspark-3.4.1.tar.gz (310.8 MB)\n",
            "\u001b[2K     \u001b[90m━━━━━━━━━━━━━━━━━━━━━━━━━━━━━━━━━━━━━━━\u001b[0m \u001b[32m310.8/310.8 MB\u001b[0m \u001b[31m2.4 MB/s\u001b[0m eta \u001b[36m0:00:00\u001b[0m\n",
            "\u001b[?25h  Preparing metadata (setup.py) ... \u001b[?25l\u001b[?25hdone\n",
            "Requirement already satisfied: py4j==0.10.9.7 in /usr/local/lib/python3.10/dist-packages (from pyspark) (0.10.9.7)\n",
            "Building wheels for collected packages: pyspark\n",
            "  Building wheel for pyspark (setup.py) ... \u001b[?25l\u001b[?25hdone\n",
            "  Created wheel for pyspark: filename=pyspark-3.4.1-py2.py3-none-any.whl size=311285387 sha256=f0c02878e97284fdd2d89866fc451e314b3d2de2a935c9291d5ac6156b07219c\n",
            "  Stored in directory: /root/.cache/pip/wheels/0d/77/a3/ff2f74cc9ab41f8f594dabf0579c2a7c6de920d584206e0834\n",
            "Successfully built pyspark\n",
            "Installing collected packages: pyspark\n",
            "Successfully installed pyspark-3.4.1\n"
          ]
        }
      ],
      "source": [
        "pip install pyspark"
      ]
    },
    {
      "cell_type": "markdown",
      "source": [
        "## **Dependencies**"
      ],
      "metadata": {
        "id": "x8wMjwxgDWt9"
      }
    },
    {
      "cell_type": "code",
      "source": [
        "from google.colab import drive\n",
        "from pyspark.sql import SparkSession\n",
        "from pyspark.sql.functions import lower, regexp_replace ,udf ,split\n",
        "from pyspark.sql.types import StringType\n",
        "from pyspark.ml.feature import Tokenizer, StopWordsRemover\n",
        "import pandas as pd\n",
        "from pyspark.sql.functions import col, count, when, isnan, sum\n",
        "import nltk\n",
        "from nltk.tokenize import word_tokenize\n",
        "from nltk.stem import PorterStemmer\n",
        "nltk.download('punkt')\n",
        "from sklearn.feature_extraction.text import TfidfVectorizer\n",
        "from sklearn.metrics.pairwise import cosine_similarity\n"
      ],
      "metadata": {
        "colab": {
          "base_uri": "https://localhost:8080/"
        },
        "id": "6M3QBNm9UDwr",
        "outputId": "b21a30f7-2325-40b0-d611-58a4058f6c5d"
      },
      "execution_count": 2,
      "outputs": [
        {
          "output_type": "stream",
          "name": "stderr",
          "text": [
            "[nltk_data] Downloading package punkt to /root/nltk_data...\n",
            "[nltk_data]   Unzipping tokenizers/punkt.zip.\n"
          ]
        }
      ]
    },
    {
      "cell_type": "markdown",
      "source": [
        " ## **Importing Dataset**\n"
      ],
      "metadata": {
        "id": "2szhhqvkDU2w"
      }
    },
    {
      "cell_type": "code",
      "source": [
        "df1=pd.read_csv('/content/songdata.csv')"
      ],
      "metadata": {
        "id": "rdBiEJ-vbCFa"
      },
      "execution_count": 3,
      "outputs": []
    },
    {
      "cell_type": "markdown",
      "source": [
        "## **Data Exploration/Preparation**"
      ],
      "metadata": {
        "id": "CdTEbRF7WrRG"
      }
    },
    {
      "cell_type": "code",
      "source": [
        "spark=SparkSession.builder.appName(\"SongDataApp\").getOrCreate()"
      ],
      "metadata": {
        "id": "XUjXUSCTUaQs"
      },
      "execution_count": 4,
      "outputs": []
    },
    {
      "cell_type": "code",
      "source": [
        "df = spark.createDataFrame(df1)"
      ],
      "metadata": {
        "id": "fovB3wbaUdTN"
      },
      "execution_count": 5,
      "outputs": []
    },
    {
      "cell_type": "code",
      "source": [
        "df_tail = df.orderBy(df['artist'].desc()).limit(10)\n",
        "df_tail.show()"
      ],
      "metadata": {
        "colab": {
          "base_uri": "https://localhost:8080/"
        },
        "id": "XYdg4TGKYkiL",
        "outputId": "f0fe6d24-b7c7-4181-c718-e0953d6a02ae"
      },
      "execution_count": 6,
      "outputs": [
        {
          "output_type": "stream",
          "name": "stdout",
          "text": [
            "+------+-------------------+--------------------+--------------------+\n",
            "|artist|               song|                link|                text|\n",
            "+------+-------------------+--------------------+--------------------+\n",
            "|  Zwan|   Baby Let's Rock!|/z/zwan/baby+lets...|Baby Let's Rock! ...|\n",
            "|  Zwan|       Come With Me|/z/zwan/come+with...|all you need  \\ni...|\n",
            "|  Zwan|        To Love You|/z/zwan/to+love+y...|In overdrive  \\nI...|\n",
            "|  Zwan|             Desire|/z/zwan/desire_20...|northern star  \\n...|\n",
            "|  Zwan|             El Sol|/z/zwan/el+sol_20...|empty-armed  \\nan...|\n",
            "|  Zwan|          Heartsong|/z/zwan/heartsong...|come in  \\nmake y...|\n",
            "|  Zwan|     Endless Summer|/z/zwan/endless+s...|there used to be ...|\n",
            "|  Zwan|           Honestly|/z/zwan/honestly_...|I believe  \\nI be...|\n",
            "|  Zwan|              Lyric|/z/zwan/lyric_201...|here comes my fai...|\n",
            "|  Zwan|Number Of The Beast|/z/zwan/number+of...|Left alone, my mi...|\n",
            "+------+-------------------+--------------------+--------------------+\n",
            "\n"
          ]
        }
      ]
    },
    {
      "cell_type": "code",
      "source": [
        "df=df.limit(5000)"
      ],
      "metadata": {
        "id": "js1nAmI5zys5"
      },
      "execution_count": 7,
      "outputs": []
    },
    {
      "cell_type": "code",
      "source": [
        "df.show()"
      ],
      "metadata": {
        "colab": {
          "base_uri": "https://localhost:8080/"
        },
        "id": "4w-09OhC-QWv",
        "outputId": "bfac5ff2-e561-434c-cc77-5aaa84ea82e1"
      },
      "execution_count": 8,
      "outputs": [
        {
          "output_type": "stream",
          "name": "stdout",
          "text": [
            "+------+--------------------+--------------------+--------------------+\n",
            "|artist|                song|                link|                text|\n",
            "+------+--------------------+--------------------+--------------------+\n",
            "|  ABBA|Ahe's My Kind Of ...|/a/abba/ahes+my+k...|Look at her face,...|\n",
            "|  ABBA|    Andante, Andante|/a/abba/andante+a...|Take it easy with...|\n",
            "|  ABBA|      As Good As New|/a/abba/as+good+a...|I'll never know w...|\n",
            "|  ABBA|                Bang|/a/abba/bang_2059...|Making somebody h...|\n",
            "|  ABBA|    Bang-A-Boomerang|/a/abba/bang+a+bo...|Making somebody h...|\n",
            "|  ABBA|  Burning My Bridges|/a/abba/burning+m...|Well, you hoot an...|\n",
            "|  ABBA|           Cassandra|/a/abba/cassandra...|Down in the stree...|\n",
            "|  ABBA|          Chiquitita|/a/abba/chiquitit...|Chiquitita, tell ...|\n",
            "|  ABBA|         Crazy World|/a/abba/crazy+wor...|I was out with th...|\n",
            "|  ABBA|     Crying Over You|/a/abba/crying+ov...|I'm waitin' for y...|\n",
            "|  ABBA|               Dance|/a/abba/dance_100...|Oh, my love it ma...|\n",
            "|  ABBA|       Dancing Queen|/a/abba/dancing+q...|You can dance, yo...|\n",
            "|  ABBA|         Disillusion|/a/abba/disillusi...|Changing, moving ...|\n",
            "|  ABBA|Does Your Mother ...|/a/abba/does+your...|You're so hot, te...|\n",
            "|  ABBA|         Dream World|/a/abba/dream+wor...|Agnetha We're not...|\n",
            "|  ABBA|      Dum Dum Diddle|/a/abba/dum+dum+d...|I can hear how yo...|\n",
            "|  ABBA|               Eagle|/a/abba/eagle_200...|They came flying ...|\n",
            "|  ABBA|      Every Good Man|/a/abba/every+goo...|Every good man ne...|\n",
            "|  ABBA|            Fernando|/a/abba/fernando_...|Can you hear the ...|\n",
            "|  ABBA|Fernando (In Span...|/a/abba/fernando+...|Puedes escuchar F...|\n",
            "+------+--------------------+--------------------+--------------------+\n",
            "only showing top 20 rows\n",
            "\n"
          ]
        }
      ]
    },
    {
      "cell_type": "code",
      "source": [
        "# Print DataFrame schema\n",
        "df.printSchema()"
      ],
      "metadata": {
        "colab": {
          "base_uri": "https://localhost:8080/"
        },
        "id": "qPlZ7fvmbsBz",
        "outputId": "c9b14c8a-2630-4a02-90af-ee55edeec9a3"
      },
      "execution_count": 9,
      "outputs": [
        {
          "output_type": "stream",
          "name": "stdout",
          "text": [
            "root\n",
            " |-- artist: string (nullable = true)\n",
            " |-- song: string (nullable = true)\n",
            " |-- link: string (nullable = true)\n",
            " |-- text: string (nullable = true)\n",
            "\n"
          ]
        }
      ]
    },
    {
      "cell_type": "code",
      "source": [
        "# Drop 'link' column\n",
        "df = df.drop('link')"
      ],
      "metadata": {
        "id": "A1kR2ojebw9q"
      },
      "execution_count": 10,
      "outputs": []
    },
    {
      "cell_type": "code",
      "source": [
        "null_counts = df.select([sum(col(c).isNull().cast(\"int\")).alias(c) for c in df.columns])\n",
        "null_counts.show()"
      ],
      "metadata": {
        "colab": {
          "base_uri": "https://localhost:8080/"
        },
        "id": "hvtnZTTAeEdU",
        "outputId": "f27bf38f-dd22-4330-a1f6-8ab824b809a4"
      },
      "execution_count": 11,
      "outputs": [
        {
          "output_type": "stream",
          "name": "stdout",
          "text": [
            "+------+----+----+\n",
            "|artist|song|text|\n",
            "+------+----+----+\n",
            "|     0|   0|   0|\n",
            "+------+----+----+\n",
            "\n"
          ]
        }
      ]
    },
    {
      "cell_type": "code",
      "source": [
        "# Convert 'text' to lowercase, remove punctuation and newline characters\n",
        "df = df.withColumn('text', regexp_replace(lower(df['text']), r'[^\\w\\s]', ' '))\n",
        "df.show()"
      ],
      "metadata": {
        "colab": {
          "base_uri": "https://localhost:8080/"
        },
        "id": "Dn6w_BGRfFF2",
        "outputId": "5dbb9734-db19-49c2-a38e-d6e84aa78f2d"
      },
      "execution_count": 12,
      "outputs": [
        {
          "output_type": "stream",
          "name": "stdout",
          "text": [
            "+------+--------------------+--------------------+\n",
            "|artist|                song|                text|\n",
            "+------+--------------------+--------------------+\n",
            "|  ABBA|Ahe's My Kind Of ...|look at her face ...|\n",
            "|  ABBA|    Andante, Andante|take it easy with...|\n",
            "|  ABBA|      As Good As New|i ll never know w...|\n",
            "|  ABBA|                Bang|making somebody h...|\n",
            "|  ABBA|    Bang-A-Boomerang|making somebody h...|\n",
            "|  ABBA|  Burning My Bridges|well  you hoot an...|\n",
            "|  ABBA|           Cassandra|down in the stree...|\n",
            "|  ABBA|          Chiquitita|chiquitita  tell ...|\n",
            "|  ABBA|         Crazy World|i was out with th...|\n",
            "|  ABBA|     Crying Over You|i m waitin  for y...|\n",
            "|  ABBA|               Dance|oh  my love it ma...|\n",
            "|  ABBA|       Dancing Queen|you can dance  yo...|\n",
            "|  ABBA|         Disillusion|changing  moving ...|\n",
            "|  ABBA|Does Your Mother ...|you re so hot  te...|\n",
            "|  ABBA|         Dream World|agnetha we re not...|\n",
            "|  ABBA|      Dum Dum Diddle|i can hear how yo...|\n",
            "|  ABBA|               Eagle|they came flying ...|\n",
            "|  ABBA|      Every Good Man|every good man ne...|\n",
            "|  ABBA|            Fernando|can you hear the ...|\n",
            "|  ABBA|Fernando (In Span...|puedes escuchar f...|\n",
            "+------+--------------------+--------------------+\n",
            "only showing top 20 rows\n",
            "\n"
          ]
        }
      ]
    },
    {
      "cell_type": "code",
      "source": [
        "df.select('text').head(1)"
      ],
      "metadata": {
        "colab": {
          "base_uri": "https://localhost:8080/"
        },
        "id": "rGI1pOihidfG",
        "outputId": "2f8b6ab1-607e-49e9-814a-d33dc22f3cb0"
      },
      "execution_count": 13,
      "outputs": [
        {
          "output_type": "execute_result",
          "data": {
            "text/plain": [
              "[Row(text='look at her face  it s a wonderful face  \\nand it means something special to me  \\nlook at the way that she smiles when she sees me  \\nhow lucky can one fellow be   \\n  \\nshe s just my kind of girl  she makes me feel fine  \\nwho could ever believe that she could be mine   \\nshe s just my kind of girl  without her i m blue  \\nand if she ever leaves me what could i do  what could i do   \\n  \\nand when we go for a walk in the park  \\nand she holds me and squeezes my hand  \\nwe ll go on walking for hours and talking  \\nabout all the things that we plan  \\n  \\nshe s just my kind of girl  she makes me feel fine  \\nwho could ever believe that she could be mine   \\nshe s just my kind of girl  without her i m blue  \\nand if she ever leaves me what could i do  what could i do \\n\\n')]"
            ]
          },
          "metadata": {},
          "execution_count": 13
        }
      ]
    },
    {
      "cell_type": "code",
      "source": [
        "# Removing \"/n\" from text\n",
        "df = df.withColumn('text', regexp_replace(df['text'], r'\\n', ' '))\n",
        "df.select('text').head(1)\n"
      ],
      "metadata": {
        "colab": {
          "base_uri": "https://localhost:8080/"
        },
        "id": "nRLif7XziqWe",
        "outputId": "8f081cf1-1e83-4bc4-d83e-b0ee06cc0507"
      },
      "execution_count": 14,
      "outputs": [
        {
          "output_type": "execute_result",
          "data": {
            "text/plain": [
              "[Row(text='look at her face  it s a wonderful face   and it means something special to me   look at the way that she smiles when she sees me   how lucky can one fellow be       she s just my kind of girl  she makes me feel fine   who could ever believe that she could be mine    she s just my kind of girl  without her i m blue   and if she ever leaves me what could i do  what could i do       and when we go for a walk in the park   and she holds me and squeezes my hand   we ll go on walking for hours and talking   about all the things that we plan      she s just my kind of girl  she makes me feel fine   who could ever believe that she could be mine    she s just my kind of girl  without her i m blue   and if she ever leaves me what could i do  what could i do   ')]"
            ]
          },
          "metadata": {},
          "execution_count": 14
        }
      ]
    },
    {
      "cell_type": "markdown",
      "source": [
        "## Feature Engineering\n",
        "\n",
        "\n",
        "* Create TF-IDF features\n",
        "* Pair_wise Cosine_similarity matrix\n",
        "\n"
      ],
      "metadata": {
        "id": "1Qkxuw0jFvHJ"
      }
    },
    {
      "cell_type": "code",
      "source": [
        "# Initialize the Porter stemmer from NLTK\n",
        "# PorterStemmer is a stemming algorithm that reduces words to their base or root form"
      ],
      "metadata": {
        "id": "vFTaNIkBpfVX"
      },
      "execution_count": 15,
      "outputs": []
    },
    {
      "cell_type": "code",
      "source": [
        "stemmer = PorterStemmer()"
      ],
      "metadata": {
        "id": "bMhFDwbUGlXg"
      },
      "execution_count": 16,
      "outputs": []
    },
    {
      "cell_type": "code",
      "source": [
        "def tokenize_text(text):\n",
        "    tokens= word_tokenize(text)    # tokenize the input text into individual words\n",
        "    stemming=[stemmer.stem(token) for token in tokens]\n",
        "    return \" \".join(stemming)      # returns the stemmed words joined into a single string"
      ],
      "metadata": {
        "id": "MNXVqbeRlBx0"
      },
      "execution_count": 17,
      "outputs": []
    },
    {
      "cell_type": "code",
      "source": [
        "# Register the UDFs\n",
        "stem_udf = udf(tokenize_text, StringType())"
      ],
      "metadata": {
        "id": "gtepDQSsm_h0"
      },
      "execution_count": 18,
      "outputs": []
    },
    {
      "cell_type": "code",
      "source": [
        "# Apply the UDFs to the 'text' column\n",
        "df = df.withColumn('text', stem_udf(df['text']))"
      ],
      "metadata": {
        "id": "jOyzQFTaoxe3"
      },
      "execution_count": 19,
      "outputs": []
    },
    {
      "cell_type": "code",
      "source": [
        "# Show the DataFrame with tokenized and stemmed text\n",
        "df.select('text').show()"
      ],
      "metadata": {
        "colab": {
          "base_uri": "https://localhost:8080/"
        },
        "id": "W3JccaLXo6cO",
        "outputId": "3debf89d-6b0c-46ad-c282-0993d0921ba6"
      },
      "execution_count": 20,
      "outputs": [
        {
          "output_type": "stream",
          "name": "stdout",
          "text": [
            "+--------------------+\n",
            "|                text|\n",
            "+--------------------+\n",
            "|look at her face ...|\n",
            "|take it easi with...|\n",
            "|i ll never know w...|\n",
            "|make somebodi hap...|\n",
            "|make somebodi hap...|\n",
            "|well you hoot and...|\n",
            "|down in the stree...|\n",
            "|chiquitita tell m...|\n",
            "|i wa out with the...|\n",
            "|i m waitin for yo...|\n",
            "|oh my love it mak...|\n",
            "|you can danc you ...|\n",
            "|chang move in a c...|\n",
            "|you re so hot tea...|\n",
            "|agnetha we re not...|\n",
            "|i can hear how yo...|\n",
            "|they came fli fro...|\n",
            "|everi good man ne...|\n",
            "|can you hear the ...|\n",
            "|pued escuchar fer...|\n",
            "+--------------------+\n",
            "only showing top 20 rows\n",
            "\n"
          ]
        }
      ]
    },
    {
      "cell_type": "code",
      "source": [
        "df.show() # Final cleaned dataframe after Pre-processing"
      ],
      "metadata": {
        "colab": {
          "base_uri": "https://localhost:8080/"
        },
        "id": "X7tC9F4cu5Cc",
        "outputId": "46098693-022e-42a3-a1de-f6f8804e69f4"
      },
      "execution_count": 21,
      "outputs": [
        {
          "output_type": "stream",
          "name": "stdout",
          "text": [
            "+------+--------------------+--------------------+\n",
            "|artist|                song|                text|\n",
            "+------+--------------------+--------------------+\n",
            "|  ABBA|Ahe's My Kind Of ...|look at her face ...|\n",
            "|  ABBA|    Andante, Andante|take it easi with...|\n",
            "|  ABBA|      As Good As New|i ll never know w...|\n",
            "|  ABBA|                Bang|make somebodi hap...|\n",
            "|  ABBA|    Bang-A-Boomerang|make somebodi hap...|\n",
            "|  ABBA|  Burning My Bridges|well you hoot and...|\n",
            "|  ABBA|           Cassandra|down in the stree...|\n",
            "|  ABBA|          Chiquitita|chiquitita tell m...|\n",
            "|  ABBA|         Crazy World|i wa out with the...|\n",
            "|  ABBA|     Crying Over You|i m waitin for yo...|\n",
            "|  ABBA|               Dance|oh my love it mak...|\n",
            "|  ABBA|       Dancing Queen|you can danc you ...|\n",
            "|  ABBA|         Disillusion|chang move in a c...|\n",
            "|  ABBA|Does Your Mother ...|you re so hot tea...|\n",
            "|  ABBA|         Dream World|agnetha we re not...|\n",
            "|  ABBA|      Dum Dum Diddle|i can hear how yo...|\n",
            "|  ABBA|               Eagle|they came fli fro...|\n",
            "|  ABBA|      Every Good Man|everi good man ne...|\n",
            "|  ABBA|            Fernando|can you hear the ...|\n",
            "|  ABBA|Fernando (In Span...|pued escuchar fer...|\n",
            "+------+--------------------+--------------------+\n",
            "only showing top 20 rows\n",
            "\n"
          ]
        }
      ]
    },
    {
      "cell_type": "code",
      "source": [
        "# Show the DataFrame with the array column\n",
        "df.select(\"text\").show()"
      ],
      "metadata": {
        "colab": {
          "base_uri": "https://localhost:8080/"
        },
        "id": "TvHJ4_KY0lPn",
        "outputId": "68c6d1ac-3d61-4948-aac0-e6d221a7a598"
      },
      "execution_count": 22,
      "outputs": [
        {
          "output_type": "stream",
          "name": "stdout",
          "text": [
            "+--------------------+\n",
            "|                text|\n",
            "+--------------------+\n",
            "|look at her face ...|\n",
            "|take it easi with...|\n",
            "|i ll never know w...|\n",
            "|make somebodi hap...|\n",
            "|make somebodi hap...|\n",
            "|well you hoot and...|\n",
            "|down in the stree...|\n",
            "|chiquitita tell m...|\n",
            "|i wa out with the...|\n",
            "|i m waitin for yo...|\n",
            "|oh my love it mak...|\n",
            "|you can danc you ...|\n",
            "|chang move in a c...|\n",
            "|you re so hot tea...|\n",
            "|agnetha we re not...|\n",
            "|i can hear how yo...|\n",
            "|they came fli fro...|\n",
            "|everi good man ne...|\n",
            "|can you hear the ...|\n",
            "|pued escuchar fer...|\n",
            "+--------------------+\n",
            "only showing top 20 rows\n",
            "\n"
          ]
        }
      ]
    },
    {
      "cell_type": "code",
      "source": [
        "pandas_df=df.toPandas() # Converting to pandas Dataframe"
      ],
      "metadata": {
        "id": "VzcrFGlEb1_r"
      },
      "execution_count": 23,
      "outputs": []
    },
    {
      "cell_type": "code",
      "source": [
        "pandas_df"
      ],
      "metadata": {
        "colab": {
          "base_uri": "https://localhost:8080/",
          "height": 423
        },
        "id": "Jeo0q6Gnjq8o",
        "outputId": "ae1c02e6-f4a0-433c-aadf-16548335bfe7"
      },
      "execution_count": 24,
      "outputs": [
        {
          "output_type": "execute_result",
          "data": {
            "text/plain": [
              "              artist                   song  \\\n",
              "0               ABBA  Ahe's My Kind Of Girl   \n",
              "1               ABBA       Andante, Andante   \n",
              "2               ABBA         As Good As New   \n",
              "3               ABBA                   Bang   \n",
              "4               ABBA       Bang-A-Boomerang   \n",
              "...              ...                    ...   \n",
              "4995  Elvis Costello        Love For Tender   \n",
              "4996  Elvis Costello          Love Went Mad   \n",
              "4997  Elvis Costello           Lover's Walk   \n",
              "4998  Elvis Costello             Luxembourg   \n",
              "4999  Elvis Costello       Men Called Uncle   \n",
              "\n",
              "                                                   text  \n",
              "0     look at her face it s a wonder face and it mea...  \n",
              "1     take it easi with me pleas touch me gentli lik...  \n",
              "2     i ll never know whi i had to go whi i had to p...  \n",
              "3     make somebodi happi is a question of give and ...  \n",
              "4     make somebodi happi is a question of give and ...  \n",
              "...                                                 ...  \n",
              "4995  you won t take my love for tender you can put ...  \n",
              "4996  i ve look at it everi way i can from under and...  \n",
              "4997  i won t walk with my head bow be on beyond cau...  \n",
              "4998  dress up like a dog s dinner butter wouldn t m...  \n",
              "4999  now there s newsprint all over your face well ...  \n",
              "\n",
              "[5000 rows x 3 columns]"
            ],
            "text/html": [
              "\n",
              "  <div id=\"df-2861c1c2-1050-4df7-8d5c-e12670aa2d76\" class=\"colab-df-container\">\n",
              "    <div>\n",
              "<style scoped>\n",
              "    .dataframe tbody tr th:only-of-type {\n",
              "        vertical-align: middle;\n",
              "    }\n",
              "\n",
              "    .dataframe tbody tr th {\n",
              "        vertical-align: top;\n",
              "    }\n",
              "\n",
              "    .dataframe thead th {\n",
              "        text-align: right;\n",
              "    }\n",
              "</style>\n",
              "<table border=\"1\" class=\"dataframe\">\n",
              "  <thead>\n",
              "    <tr style=\"text-align: right;\">\n",
              "      <th></th>\n",
              "      <th>artist</th>\n",
              "      <th>song</th>\n",
              "      <th>text</th>\n",
              "    </tr>\n",
              "  </thead>\n",
              "  <tbody>\n",
              "    <tr>\n",
              "      <th>0</th>\n",
              "      <td>ABBA</td>\n",
              "      <td>Ahe's My Kind Of Girl</td>\n",
              "      <td>look at her face it s a wonder face and it mea...</td>\n",
              "    </tr>\n",
              "    <tr>\n",
              "      <th>1</th>\n",
              "      <td>ABBA</td>\n",
              "      <td>Andante, Andante</td>\n",
              "      <td>take it easi with me pleas touch me gentli lik...</td>\n",
              "    </tr>\n",
              "    <tr>\n",
              "      <th>2</th>\n",
              "      <td>ABBA</td>\n",
              "      <td>As Good As New</td>\n",
              "      <td>i ll never know whi i had to go whi i had to p...</td>\n",
              "    </tr>\n",
              "    <tr>\n",
              "      <th>3</th>\n",
              "      <td>ABBA</td>\n",
              "      <td>Bang</td>\n",
              "      <td>make somebodi happi is a question of give and ...</td>\n",
              "    </tr>\n",
              "    <tr>\n",
              "      <th>4</th>\n",
              "      <td>ABBA</td>\n",
              "      <td>Bang-A-Boomerang</td>\n",
              "      <td>make somebodi happi is a question of give and ...</td>\n",
              "    </tr>\n",
              "    <tr>\n",
              "      <th>...</th>\n",
              "      <td>...</td>\n",
              "      <td>...</td>\n",
              "      <td>...</td>\n",
              "    </tr>\n",
              "    <tr>\n",
              "      <th>4995</th>\n",
              "      <td>Elvis Costello</td>\n",
              "      <td>Love For Tender</td>\n",
              "      <td>you won t take my love for tender you can put ...</td>\n",
              "    </tr>\n",
              "    <tr>\n",
              "      <th>4996</th>\n",
              "      <td>Elvis Costello</td>\n",
              "      <td>Love Went Mad</td>\n",
              "      <td>i ve look at it everi way i can from under and...</td>\n",
              "    </tr>\n",
              "    <tr>\n",
              "      <th>4997</th>\n",
              "      <td>Elvis Costello</td>\n",
              "      <td>Lover's Walk</td>\n",
              "      <td>i won t walk with my head bow be on beyond cau...</td>\n",
              "    </tr>\n",
              "    <tr>\n",
              "      <th>4998</th>\n",
              "      <td>Elvis Costello</td>\n",
              "      <td>Luxembourg</td>\n",
              "      <td>dress up like a dog s dinner butter wouldn t m...</td>\n",
              "    </tr>\n",
              "    <tr>\n",
              "      <th>4999</th>\n",
              "      <td>Elvis Costello</td>\n",
              "      <td>Men Called Uncle</td>\n",
              "      <td>now there s newsprint all over your face well ...</td>\n",
              "    </tr>\n",
              "  </tbody>\n",
              "</table>\n",
              "<p>5000 rows × 3 columns</p>\n",
              "</div>\n",
              "    <div class=\"colab-df-buttons\">\n",
              "\n",
              "  <div class=\"colab-df-container\">\n",
              "    <button class=\"colab-df-convert\" onclick=\"convertToInteractive('df-2861c1c2-1050-4df7-8d5c-e12670aa2d76')\"\n",
              "            title=\"Convert this dataframe to an interactive table.\"\n",
              "            style=\"display:none;\">\n",
              "\n",
              "  <svg xmlns=\"http://www.w3.org/2000/svg\" height=\"24px\" viewBox=\"0 -960 960 960\">\n",
              "    <path d=\"M120-120v-720h720v720H120Zm60-500h600v-160H180v160Zm220 220h160v-160H400v160Zm0 220h160v-160H400v160ZM180-400h160v-160H180v160Zm440 0h160v-160H620v160ZM180-180h160v-160H180v160Zm440 0h160v-160H620v160Z\"/>\n",
              "  </svg>\n",
              "    </button>\n",
              "\n",
              "  <style>\n",
              "    .colab-df-container {\n",
              "      display:flex;\n",
              "      gap: 12px;\n",
              "    }\n",
              "\n",
              "    .colab-df-convert {\n",
              "      background-color: #E8F0FE;\n",
              "      border: none;\n",
              "      border-radius: 50%;\n",
              "      cursor: pointer;\n",
              "      display: none;\n",
              "      fill: #1967D2;\n",
              "      height: 32px;\n",
              "      padding: 0 0 0 0;\n",
              "      width: 32px;\n",
              "    }\n",
              "\n",
              "    .colab-df-convert:hover {\n",
              "      background-color: #E2EBFA;\n",
              "      box-shadow: 0px 1px 2px rgba(60, 64, 67, 0.3), 0px 1px 3px 1px rgba(60, 64, 67, 0.15);\n",
              "      fill: #174EA6;\n",
              "    }\n",
              "\n",
              "    .colab-df-buttons div {\n",
              "      margin-bottom: 4px;\n",
              "    }\n",
              "\n",
              "    [theme=dark] .colab-df-convert {\n",
              "      background-color: #3B4455;\n",
              "      fill: #D2E3FC;\n",
              "    }\n",
              "\n",
              "    [theme=dark] .colab-df-convert:hover {\n",
              "      background-color: #434B5C;\n",
              "      box-shadow: 0px 1px 3px 1px rgba(0, 0, 0, 0.15);\n",
              "      filter: drop-shadow(0px 1px 2px rgba(0, 0, 0, 0.3));\n",
              "      fill: #FFFFFF;\n",
              "    }\n",
              "  </style>\n",
              "\n",
              "    <script>\n",
              "      const buttonEl =\n",
              "        document.querySelector('#df-2861c1c2-1050-4df7-8d5c-e12670aa2d76 button.colab-df-convert');\n",
              "      buttonEl.style.display =\n",
              "        google.colab.kernel.accessAllowed ? 'block' : 'none';\n",
              "\n",
              "      async function convertToInteractive(key) {\n",
              "        const element = document.querySelector('#df-2861c1c2-1050-4df7-8d5c-e12670aa2d76');\n",
              "        const dataTable =\n",
              "          await google.colab.kernel.invokeFunction('convertToInteractive',\n",
              "                                                    [key], {});\n",
              "        if (!dataTable) return;\n",
              "\n",
              "        const docLinkHtml = 'Like what you see? Visit the ' +\n",
              "          '<a target=\"_blank\" href=https://colab.research.google.com/notebooks/data_table.ipynb>data table notebook</a>'\n",
              "          + ' to learn more about interactive tables.';\n",
              "        element.innerHTML = '';\n",
              "        dataTable['output_type'] = 'display_data';\n",
              "        await google.colab.output.renderOutput(dataTable, element);\n",
              "        const docLink = document.createElement('div');\n",
              "        docLink.innerHTML = docLinkHtml;\n",
              "        element.appendChild(docLink);\n",
              "      }\n",
              "    </script>\n",
              "  </div>\n",
              "\n",
              "\n",
              "<div id=\"df-b5d4437b-e829-4e88-ab3d-61f9c2327baa\">\n",
              "  <button class=\"colab-df-quickchart\" onclick=\"quickchart('df-b5d4437b-e829-4e88-ab3d-61f9c2327baa')\"\n",
              "            title=\"Suggest charts.\"\n",
              "            style=\"display:none;\">\n",
              "\n",
              "<svg xmlns=\"http://www.w3.org/2000/svg\" height=\"24px\"viewBox=\"0 0 24 24\"\n",
              "     width=\"24px\">\n",
              "    <g>\n",
              "        <path d=\"M19 3H5c-1.1 0-2 .9-2 2v14c0 1.1.9 2 2 2h14c1.1 0 2-.9 2-2V5c0-1.1-.9-2-2-2zM9 17H7v-7h2v7zm4 0h-2V7h2v10zm4 0h-2v-4h2v4z\"/>\n",
              "    </g>\n",
              "</svg>\n",
              "  </button>\n",
              "\n",
              "<style>\n",
              "  .colab-df-quickchart {\n",
              "      --bg-color: #E8F0FE;\n",
              "      --fill-color: #1967D2;\n",
              "      --hover-bg-color: #E2EBFA;\n",
              "      --hover-fill-color: #174EA6;\n",
              "      --disabled-fill-color: #AAA;\n",
              "      --disabled-bg-color: #DDD;\n",
              "  }\n",
              "\n",
              "  [theme=dark] .colab-df-quickchart {\n",
              "      --bg-color: #3B4455;\n",
              "      --fill-color: #D2E3FC;\n",
              "      --hover-bg-color: #434B5C;\n",
              "      --hover-fill-color: #FFFFFF;\n",
              "      --disabled-bg-color: #3B4455;\n",
              "      --disabled-fill-color: #666;\n",
              "  }\n",
              "\n",
              "  .colab-df-quickchart {\n",
              "    background-color: var(--bg-color);\n",
              "    border: none;\n",
              "    border-radius: 50%;\n",
              "    cursor: pointer;\n",
              "    display: none;\n",
              "    fill: var(--fill-color);\n",
              "    height: 32px;\n",
              "    padding: 0;\n",
              "    width: 32px;\n",
              "  }\n",
              "\n",
              "  .colab-df-quickchart:hover {\n",
              "    background-color: var(--hover-bg-color);\n",
              "    box-shadow: 0 1px 2px rgba(60, 64, 67, 0.3), 0 1px 3px 1px rgba(60, 64, 67, 0.15);\n",
              "    fill: var(--button-hover-fill-color);\n",
              "  }\n",
              "\n",
              "  .colab-df-quickchart-complete:disabled,\n",
              "  .colab-df-quickchart-complete:disabled:hover {\n",
              "    background-color: var(--disabled-bg-color);\n",
              "    fill: var(--disabled-fill-color);\n",
              "    box-shadow: none;\n",
              "  }\n",
              "\n",
              "  .colab-df-spinner {\n",
              "    border: 2px solid var(--fill-color);\n",
              "    border-color: transparent;\n",
              "    border-bottom-color: var(--fill-color);\n",
              "    animation:\n",
              "      spin 1s steps(1) infinite;\n",
              "  }\n",
              "\n",
              "  @keyframes spin {\n",
              "    0% {\n",
              "      border-color: transparent;\n",
              "      border-bottom-color: var(--fill-color);\n",
              "      border-left-color: var(--fill-color);\n",
              "    }\n",
              "    20% {\n",
              "      border-color: transparent;\n",
              "      border-left-color: var(--fill-color);\n",
              "      border-top-color: var(--fill-color);\n",
              "    }\n",
              "    30% {\n",
              "      border-color: transparent;\n",
              "      border-left-color: var(--fill-color);\n",
              "      border-top-color: var(--fill-color);\n",
              "      border-right-color: var(--fill-color);\n",
              "    }\n",
              "    40% {\n",
              "      border-color: transparent;\n",
              "      border-right-color: var(--fill-color);\n",
              "      border-top-color: var(--fill-color);\n",
              "    }\n",
              "    60% {\n",
              "      border-color: transparent;\n",
              "      border-right-color: var(--fill-color);\n",
              "    }\n",
              "    80% {\n",
              "      border-color: transparent;\n",
              "      border-right-color: var(--fill-color);\n",
              "      border-bottom-color: var(--fill-color);\n",
              "    }\n",
              "    90% {\n",
              "      border-color: transparent;\n",
              "      border-bottom-color: var(--fill-color);\n",
              "    }\n",
              "  }\n",
              "</style>\n",
              "\n",
              "  <script>\n",
              "    async function quickchart(key) {\n",
              "      const quickchartButtonEl =\n",
              "        document.querySelector('#' + key + ' button');\n",
              "      quickchartButtonEl.disabled = true;  // To prevent multiple clicks.\n",
              "      quickchartButtonEl.classList.add('colab-df-spinner');\n",
              "      try {\n",
              "        const charts = await google.colab.kernel.invokeFunction(\n",
              "            'suggestCharts', [key], {});\n",
              "      } catch (error) {\n",
              "        console.error('Error during call to suggestCharts:', error);\n",
              "      }\n",
              "      quickchartButtonEl.classList.remove('colab-df-spinner');\n",
              "      quickchartButtonEl.classList.add('colab-df-quickchart-complete');\n",
              "    }\n",
              "    (() => {\n",
              "      let quickchartButtonEl =\n",
              "        document.querySelector('#df-b5d4437b-e829-4e88-ab3d-61f9c2327baa button');\n",
              "      quickchartButtonEl.style.display =\n",
              "        google.colab.kernel.accessAllowed ? 'block' : 'none';\n",
              "    })();\n",
              "  </script>\n",
              "</div>\n",
              "    </div>\n",
              "  </div>\n"
            ]
          },
          "metadata": {},
          "execution_count": 24
        }
      ]
    },
    {
      "cell_type": "code",
      "source": [
        "# Removing common english stop words from the text\n",
        "# Doing analysis at word level\n",
        "\n",
        "tfidvector = TfidfVectorizer(analyzer='word',stop_words='english')\n",
        "matrix = tfidvector.fit_transform(pandas_df['text'])     # Transforming text into TF_IDF matrix\n"
      ],
      "metadata": {
        "id": "LJDEQj1Pz4eO"
      },
      "execution_count": 25,
      "outputs": []
    },
    {
      "cell_type": "code",
      "source": [
        "# Applying matrix to calculated cosine similairity between the text\n",
        "similarity = cosine_similarity(matrix)\n",
        "similarity"
      ],
      "metadata": {
        "colab": {
          "base_uri": "https://localhost:8080/"
        },
        "id": "TWFz45cOl3fi",
        "outputId": "93e6b5b4-1d08-480b-bb61-45461a20a800"
      },
      "execution_count": 26,
      "outputs": [
        {
          "output_type": "execute_result",
          "data": {
            "text/plain": [
              "array([[1.        , 0.03571458, 0.01274887, ..., 0.06065868, 0.05687335,\n",
              "        0.13438459],\n",
              "       [0.03571458, 1.        , 0.00759337, ..., 0.00483217, 0.01919634,\n",
              "        0.0034971 ],\n",
              "       [0.01274887, 0.00759337, 1.        , ..., 0.00726643, 0.00871825,\n",
              "        0.03042829],\n",
              "       ...,\n",
              "       [0.06065868, 0.00483217, 0.00726643, ..., 1.        , 0.0582164 ,\n",
              "        0.01661463],\n",
              "       [0.05687335, 0.01919634, 0.00871825, ..., 0.0582164 , 1.        ,\n",
              "        0.08982805],\n",
              "       [0.13438459, 0.0034971 , 0.03042829, ..., 0.01661463, 0.08982805,\n",
              "        1.        ]])"
            ]
          },
          "metadata": {},
          "execution_count": 26
        }
      ]
    },
    {
      "cell_type": "markdown",
      "source": [
        "## Recommendation Function"
      ],
      "metadata": {
        "id": "I1d_jD_0L41f"
      }
    },
    {
      "cell_type": "code",
      "source": [
        "def recommendation(song_df):\n",
        "    # Find the index of the given song in the DataFrame\n",
        "    idx = pandas_df[pandas_df['song'] == song_df].index[0]\n",
        "\n",
        "    # Calculate distances and sort them in descending order\n",
        "    distances = sorted(list(enumerate(similarity[idx])),reverse=True,key=lambda x:x[1])\n",
        "\n",
        "    # Create a list to store recommended songs\n",
        "    songs = []\n",
        "\n",
        "    # Iterate through distances and retrieve recommended songs\n",
        "    for m_id in distances[1:21]:\n",
        "        songs.append(pandas_df.iloc[m_id[0]].song)\n",
        "\n",
        "    # Return the list of recommended songs\n",
        "    return songs"
      ],
      "metadata": {
        "id": "485m4gv39zk2"
      },
      "execution_count": 27,
      "outputs": []
    },
    {
      "cell_type": "code",
      "source": [
        "## Demo inputs\n",
        "''' 'Endless Love',\n",
        " 'Boom Boom Boom',\n",
        " 'Easy Ride',\n",
        " \"Boom, Boom, Ain't It Great To Be Crazy?\",\n",
        " 'Bang-Bang',\n",
        " 'Boom Boom',\n",
        " 'History Is Made By Stupid People',\n",
        " 'Bang A Drum',\n",
        " 'How To Be Dumb',\n",
        " 'Love You Till Tuesday',\n",
        " 'Pop Style',\n",
        " 'The Ants Go Marching',\n",
        " \"I'll Kiss You\",\n",
        " 'X Marks The Spot' '''\n"
      ],
      "metadata": {
        "colab": {
          "base_uri": "https://localhost:8080/",
          "height": 54
        },
        "id": "XyqqjkB79_KC",
        "outputId": "57f19723-a666-45c1-b34d-9057d6621e89"
      },
      "execution_count": 28,
      "outputs": [
        {
          "output_type": "execute_result",
          "data": {
            "text/plain": [
              "' \\'Endless Love\\',\\n \\'Boom Boom Boom\\',\\n \\'Easy Ride\\',\\n \"Boom, Boom, Ain\\'t It Great To Be Crazy?\",\\n \\'Bang-Bang\\',\\n \\'Boom Boom\\',\\n \\'History Is Made By Stupid People\\',\\n \\'Bang A Drum\\',\\n \\'How To Be Dumb\\',\\n \\'Love You Till Tuesday\\',\\n \\'Pop Style\\',\\n \\'The Ants Go Marching\\',\\n \"I\\'ll Kiss You\",\\n \\'X Marks The Spot\\' '"
            ],
            "application/vnd.google.colaboratory.intrinsic+json": {
              "type": "string"
            }
          },
          "metadata": {},
          "execution_count": 28
        }
      ]
    },
    {
      "cell_type": "code",
      "source": [
        "recommendation('One Million Kisses')  # calling Function"
      ],
      "metadata": {
        "colab": {
          "base_uri": "https://localhost:8080/"
        },
        "id": "UhBALIty9_F-",
        "outputId": "e820105e-f1fe-4746-a983-8efa6628b952"
      },
      "execution_count": 29,
      "outputs": [
        {
          "output_type": "execute_result",
          "data": {
            "text/plain": [
              "['Love On (Non Album B-Side)',\n",
              " 'Addiction',\n",
              " 'In And Out Of Love',\n",
              " 'Always And Forever',\n",
              " 'I Do Love You',\n",
              " 'Alternate Ending',\n",
              " 'This Night',\n",
              " 'Even The Nights Are Better',\n",
              " 'Closer',\n",
              " 'More Today Than Yesterday',\n",
              " 'Give Up',\n",
              " 'Is This Love',\n",
              " 'Love Will Find A Way',\n",
              " 'Better Days',\n",
              " 'I Found You Love',\n",
              " 'The Closer You Get',\n",
              " 'Love Has Got The Power',\n",
              " \"Love Has It's Ways\",\n",
              " 'I Love Her I Love Her',\n",
              " 'Love Me Two Times']"
            ]
          },
          "metadata": {},
          "execution_count": 29
        }
      ]
    }
  ]
}